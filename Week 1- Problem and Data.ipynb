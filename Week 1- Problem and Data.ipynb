{
 "cells": [
  {
   "cell_type": "markdown",
   "metadata": {},
   "source": [
    "# Capstone Project - The Battle of Neighborhoods (Week 1)\n",
    "\n",
    "## In this notebook we will introduce to the problem and, how we propose to solve it\n",
    "\n",
    "### 1) The place: Buenos Aires"
   ]
  },
  {
   "cell_type": "markdown",
   "metadata": {},
   "source": [
    "Buenos Aires (officialy known as Ciudad Autónoma de Buenos Aires), is the capital and most populate city of the República Argentina. \n",
    "\n",
    "It is divided in a total of 48 neighborhoods, and it has a total of 3,075,646 habitants. \n",
    "\n",
    "Buenos Aires is a cosmopolitan and turistic city, due to the story and multiple turistic atractions and gastronomy"
   ]
  },
  {
   "cell_type": "markdown",
   "metadata": {},
   "source": [
    "### 2) The problem: What and Where?"
   ]
  },
  {
   "cell_type": "markdown",
   "metadata": {},
   "source": [
    "We have been hired by a group of investors, who want to invest in a new store. They want us to give them advice about two points:\n",
    "\n",
    "###### 1-What kind of sotre is convenient, in terms of oportunity of clients\n",
    "###### 2-Where is the optimum place\n",
    "\n",
    "\n",
    "### 3) The proposal \n",
    "\n",
    "In order to give answers, we have made a research and we propose the following analysis:\n",
    "\n",
    "###### We will study the different types of  stores (e.g. cafe, restaurants, tea room, bar.... etc) and the frecuency of appearence in the differents neighborhoods according to the number of habitants. For that, we have to get the 10 most common venues for heach neighborhood.\n",
    "###### Then, we will sort the different results according to the total habitants of each neighborhood. In the case, we will pondarate a neighborhood with more habitants than other in case they had the same density of the same gastronomic type store.\n",
    "\n",
    "### 4) The data\n",
    "\n",
    "For the analysis we will use the following dataset:\n",
    "\n",
    "- Wikipedia with the different neighborhoods and habitants: https://es.wikipedia.org/wiki/Anexo:Barrios_de_la_ciudad_de_Buenos_Aires\n",
    "- Buenos Aires´s location dataset (government website): https://data.buenosaires.gob.ar/dataset/barrios\n",
    "- Foursquare API to obtein the information for each neighborhood\n",
    "\n"
   ]
  },
  {
   "cell_type": "code",
   "execution_count": null,
   "metadata": {},
   "outputs": [],
   "source": []
  }
 ],
 "metadata": {
  "kernelspec": {
   "display_name": "Python 3",
   "language": "python",
   "name": "python3"
  },
  "language_info": {
   "codemirror_mode": {
    "name": "ipython",
    "version": 3
   },
   "file_extension": ".py",
   "mimetype": "text/x-python",
   "name": "python",
   "nbconvert_exporter": "python",
   "pygments_lexer": "ipython3",
   "version": "3.8.3"
  }
 },
 "nbformat": 4,
 "nbformat_minor": 4
}
